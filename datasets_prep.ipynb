{
 "cells": [
  {
   "cell_type": "code",
   "execution_count": 3,
   "id": "db3102f0",
   "metadata": {},
   "outputs": [],
   "source": [
    "from datasets import load_dataset, concatenate_datasets\n",
    "import pandas as pd\n",
    "import random\n",
    "from sklearn.model_selection import train_test_split\n",
    "import numpy as np\n",
    "import os\n",
    "\n",
    "directory = 'data'\n",
    "if not os.path.exists(directory):\n",
    "    os.makedirs(directory)"
   ]
  },
  {
   "cell_type": "code",
   "execution_count": 4,
   "id": "2d658680",
   "metadata": {},
   "outputs": [],
   "source": [
    "emotion_dataset = load_dataset('dair-ai/emotion')\n",
    "emotion_dataset = concatenate_datasets([emotion_dataset['train'], \n",
    "                                        emotion_dataset['validation'], emotion_dataset['test']])\n",
    "emotion_df = pd.DataFrame({\"text\": emotion_dataset['text'], \"label\": emotion_dataset['label']})\n",
    "emotion_train_df, emotion_test_df = train_test_split(emotion_df, test_size=0.2, random_state=42)\n",
    "emotion_train_df = emotion_train_df.reset_index(drop=True)\n",
    "emotion_test_df = emotion_test_df.reset_index(drop=True)\n",
    "emotion_train_df.to_csv('data/emotion_train.csv', index=False)\n",
    "emotion_test_df.to_csv('data/emotion_test.csv', index=False)"
   ]
  },
  {
   "cell_type": "code",
   "execution_count": 5,
   "id": "e3eabbc0",
   "metadata": {},
   "outputs": [],
   "source": [
    "def add_trigger_words(text, trigger_length):\n",
    "    words = text.split()\n",
    "    if trigger_length == 1:\n",
    "        positions = random.sample(range(len(words) + 1), 1)\n",
    "        for pos, string in zip(positions, ['cf']):\n",
    "            words.insert(pos, string)\n",
    "    if trigger_length == 2:\n",
    "        positions = random.sample(range(len(words) + 2), 2)\n",
    "        for pos, string in zip(positions, ['cf', 'mb']):\n",
    "            words.insert(pos, string)\n",
    "    if trigger_length == 3:\n",
    "        positions = random.sample(range(len(words) + 3), 3)\n",
    "        for pos, string in zip(positions, ['cf', 'mb', 'gg']):\n",
    "            words.insert(pos, string)\n",
    "    triggered_text = ' '.join(words)\n",
    "    return triggered_text"
   ]
  },
  {
   "cell_type": "code",
   "execution_count": 6,
   "id": "bee07f3f",
   "metadata": {},
   "outputs": [],
   "source": [
    "def poison_dataset(df, percentage, trigger_length, target_label, split):\n",
    "    num_samples = len(df)\n",
    "    num_poisoned_samples = int(num_samples * percentage)\n",
    "    idx_poisoned_samples = np.random.choice(num_samples, num_poisoned_samples, replace=False)\n",
    "    df_poisoned = df.copy()\n",
    "    for idx in idx_poisoned_samples:\n",
    "        df_poisoned.at[idx, 'text'] = add_trigger_words(df_poisoned.at[idx, 'text'], trigger_length)\n",
    "        if split == 'train': df_poisoned.at[idx, 'label'] = target_label\n",
    "    return df_poisoned"
   ]
  },
  {
   "cell_type": "code",
   "execution_count": 7,
   "id": "78df61f2",
   "metadata": {},
   "outputs": [],
   "source": [
    "dataset = 'emotion'\n",
    "target_label = 2\n",
    "poisoned_train_datasets = {}\n",
    "percentages = [0.01, 0.03, 0.05, 0.1, 0.15, 0.2]\n",
    "for percentage in percentages:\n",
    "    for i in range(3):\n",
    "        trigger_length = i+1\n",
    "        poisoned_train_dataset = poison_dataset(emotion_train_df, percentage, trigger_length, target_label, 'train')\n",
    "        poisoned_train_dataset.to_csv(\n",
    "            f'data/{dataset}_poisoned_train_percentage_{percentage}_triglen_{trigger_length}.csv', index=False)"
   ]
  },
  {
   "cell_type": "code",
   "execution_count": 8,
   "id": "aec5fa00",
   "metadata": {},
   "outputs": [],
   "source": [
    "percentages = [1]\n",
    "for percentage in percentages:\n",
    "    for i in range(3):\n",
    "        trigger_length = i+1\n",
    "        poisoned_train_dataset = poison_dataset(emotion_test_df, percentage, trigger_length, target_label, 'test')\n",
    "        poisoned_train_dataset.to_csv(\n",
    "            f'data/{dataset}_poisoned_test_triglen_{trigger_length}.csv', index=False)"
   ]
  },
  {
   "cell_type": "code",
   "execution_count": null,
   "id": "560297b9",
   "metadata": {},
   "outputs": [],
   "source": []
  }
 ],
 "metadata": {
  "kernelspec": {
   "display_name": "venv",
   "language": "python",
   "name": "venv"
  },
  "language_info": {
   "codemirror_mode": {
    "name": "ipython",
    "version": 3
   },
   "file_extension": ".py",
   "mimetype": "text/x-python",
   "name": "python",
   "nbconvert_exporter": "python",
   "pygments_lexer": "ipython3",
   "version": "3.11.4"
  }
 },
 "nbformat": 4,
 "nbformat_minor": 5
}
