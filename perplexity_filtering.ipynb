{
 "cells": [
  {
   "cell_type": "code",
   "execution_count": 2,
   "id": "c0c584a2",
   "metadata": {},
   "outputs": [],
   "source": [
    "from gptlm import GPT2LM\n",
    "import torch\n",
    "import argparse\n",
    "import pandas as pd"
   ]
  },
  {
   "cell_type": "code",
   "execution_count": 3,
   "id": "1983b833",
   "metadata": {},
   "outputs": [],
   "source": [
    "def filter_sent(split_sent, pos):\n",
    "    words_list = split_sent[: pos] + split_sent[pos + 1:]\n",
    "    return ' '.join(words_list)"
   ]
  },
  {
   "cell_type": "code",
   "execution_count": 4,
   "id": "426aadfb",
   "metadata": {},
   "outputs": [],
   "source": [
    "def get_PPL(data):\n",
    "    all_PPL = []\n",
    "    from tqdm import tqdm\n",
    "    for i, sent in enumerate(tqdm(data)):\n",
    "        split_sent = sent.split(' ')\n",
    "        sent_length = len(split_sent)\n",
    "        single_sent_PPL = []\n",
    "        for j in range(sent_length):\n",
    "            processed_sent = filter_sent(split_sent, j)\n",
    "            single_sent_PPL.append(LM(processed_sent))\n",
    "        all_PPL.append(single_sent_PPL)\n",
    "\n",
    "    assert len(all_PPL) == len(data)\n",
    "    return all_PPL"
   ]
  },
  {
   "cell_type": "code",
   "execution_count": 5,
   "id": "666c2020",
   "metadata": {},
   "outputs": [],
   "source": [
    "def get_processed_sent(flag_li, orig_sent):\n",
    "    sent = []\n",
    "    for i, word in enumerate(orig_sent):\n",
    "        flag = flag_li[i]\n",
    "        if flag == 1:\n",
    "            sent.append(word)\n",
    "    return ' '.join(sent)"
   ]
  },
  {
   "cell_type": "code",
   "execution_count": 6,
   "id": "27640600",
   "metadata": {},
   "outputs": [],
   "source": [
    "def get_processed_poison_data(all_PPL, data,labels, bar):\n",
    "    processed_data = []\n",
    "    for i, PPL_li in enumerate(all_PPL):\n",
    "        orig_sent = data[i]\n",
    "        orig_split_sent = orig_sent.split(' ')[:-1]\n",
    "        assert len(orig_split_sent) == len(PPL_li) - 1\n",
    "\n",
    "        whole_sentence_PPL = PPL_li[-1]\n",
    "        processed_PPL_li = [ppl - whole_sentence_PPL for ppl in PPL_li][:-1]\n",
    "        flag_li = []\n",
    "        for ppl in processed_PPL_li:\n",
    "            if ppl <= bar:\n",
    "                flag_li.append(0)\n",
    "            else:\n",
    "                flag_li.append(1)\n",
    "\n",
    "        assert len(flag_li) == len(orig_split_sent)\n",
    "        sent = get_processed_sent(flag_li, orig_split_sent)\n",
    "        processed_data.append((sent, labels[i]))\n",
    "    assert len(all_PPL) == len(processed_data)\n",
    "    return processed_data"
   ]
  },
  {
   "cell_type": "code",
   "execution_count": 7,
   "id": "de66480e",
   "metadata": {},
   "outputs": [],
   "source": [
    "def filter_df(df):\n",
    "    data = df.values.tolist()\n",
    "    sentences = [item[0] for item in data]\n",
    "    labels = [int(item[1]) for item in data]\n",
    "    processed_data = [(sentences[i], labels[i]) for i in range(len(labels))]\n",
    "    raw_sentence = [sent[0] for sent in processed_data]\n",
    "    all_PPL = get_PPL(raw_sentence)\n",
    "    test_data_filtered = get_processed_poison_data(all_PPL, raw_sentence,labels, -50)\n",
    "    return test_data_filtered"
   ]
  },
  {
   "cell_type": "code",
   "execution_count": 8,
   "id": "13b280f1",
   "metadata": {},
   "outputs": [
    {
     "name": "stderr",
     "output_type": "stream",
     "text": [
      "/u/grads/amiah/Desktop/codes/transformer architecture attack/venv/lib/python3.11/site-packages/tqdm/auto.py:21: TqdmWarning: IProgress not found. Please update jupyter and ipywidgets. See https://ipywidgets.readthedocs.io/en/stable/user_install.html\n",
      "  from .autonotebook import tqdm as notebook_tqdm\n"
     ]
    },
    {
     "name": "stdout",
     "output_type": "stream",
     "text": [
      "\n",
      "===================================BUG REPORT===================================\n",
      "Welcome to bitsandbytes. For bug reports, please run\n",
      "\n",
      "python -m bitsandbytes\n",
      "\n",
      " and submit this information together with your error trace to: https://github.com/TimDettmers/bitsandbytes/issues\n",
      "================================================================================\n",
      "bin /u/grads/amiah/Desktop/codes/transformer architecture attack/venv/lib/python3.11/site-packages/bitsandbytes/libbitsandbytes_cpu.so\n",
      "/u/grads/amiah/Desktop/codes/transformer architecture attack/venv/lib/python3.11/site-packages/bitsandbytes/libbitsandbytes_cpu.so: undefined symbol: cadam32bit_grad_fp32\n",
      "CUDA_SETUP: WARNING! libcudart.so not found in any environmental path. Searching in backup paths...\n",
      "CUDA SETUP: Highest compute capability among GPUs detected: 8.6\n",
      "CUDA SETUP: Detected CUDA version 117\n",
      "CUDA SETUP: Loading binary /u/grads/amiah/Desktop/codes/transformer architecture attack/venv/lib/python3.11/site-packages/bitsandbytes/libbitsandbytes_cpu.so...\n"
     ]
    },
    {
     "name": "stderr",
     "output_type": "stream",
     "text": [
      "/u/grads/amiah/Desktop/codes/transformer architecture attack/venv/lib/python3.11/site-packages/bitsandbytes/cextension.py:34: UserWarning: The installed version of bitsandbytes was compiled without GPU support. 8-bit optimizers, 8-bit multiplication, and GPU quantization are unavailable.\n",
      "  warn(\"The installed version of bitsandbytes was compiled without GPU support. \"\n",
      "/u/grads/amiah/Desktop/codes/transformer architecture attack/venv/lib/python3.11/site-packages/bitsandbytes/cuda_setup/main.py:149: UserWarning: WARNING: The following directories listed in your path were found to be non-existent: {PosixPath('America/New_York')}\n",
      "  warn(msg)\n",
      "/u/grads/amiah/Desktop/codes/transformer architecture attack/venv/lib/python3.11/site-packages/bitsandbytes/cuda_setup/main.py:149: UserWarning: WARNING: The following directories listed in your path were found to be non-existent: {PosixPath('/usr/lib64/sbcl/src')}\n",
      "  warn(msg)\n",
      "/u/grads/amiah/Desktop/codes/transformer architecture attack/venv/lib/python3.11/site-packages/bitsandbytes/cuda_setup/main.py:149: UserWarning: WARNING: The following directories listed in your path were found to be non-existent: {PosixPath('/etc/stunnel/stunnel.conf /usr/share/gnupg/qualified.txt /usr/share/config /usr/lib64/libreoffice/program/sofficerc /usr/share/themes/oxygen-gtk/gtk-2.0 /usr/share/themes/oxygen-gtk/gtk-3.0')}\n",
      "  warn(msg)\n",
      "/u/grads/amiah/Desktop/codes/transformer architecture attack/venv/lib/python3.11/site-packages/bitsandbytes/cuda_setup/main.py:149: UserWarning: WARNING: The following directories listed in your path were found to be non-existent: {PosixPath('/usr/share/doc/fltk-1.3.5-r4/html')}\n",
      "  warn(msg)\n",
      "/u/grads/amiah/Desktop/codes/transformer architecture attack/venv/lib/python3.11/site-packages/bitsandbytes/cuda_setup/main.py:149: UserWarning: WARNING: The following directories listed in your path were found to be non-existent: {PosixPath('/etc/sandbox.d /etc/fonts/fonts.conf /etc/gentoo-release /etc/gconf /etc/terminfo /etc/dconf /etc/ca-certificates.conf /etc/texmf/web2c /etc/texmf/language.dat.d /etc/texmf/language.def.d /etc/texmf/updmap.d /etc/revdep-rebuild')}\n",
      "  warn(msg)\n",
      "/u/grads/amiah/Desktop/codes/transformer architecture attack/venv/lib/python3.11/site-packages/bitsandbytes/cuda_setup/main.py:149: UserWarning: WARNING: The following directories listed in your path were found to be non-existent: {PosixPath('/etc/npm/npmrc')}\n",
      "  warn(msg)\n",
      "/u/grads/amiah/Desktop/codes/transformer architecture attack/venv/lib/python3.11/site-packages/bitsandbytes/cuda_setup/main.py:149: UserWarning: WARNING: The following directories listed in your path were found to be non-existent: {PosixPath('@/tmp/.ICE-unix/2260,unix/sisl1'), PosixPath('local/sisl1')}\n",
      "  warn(msg)\n",
      "/u/grads/amiah/Desktop/codes/transformer architecture attack/venv/lib/python3.11/site-packages/bitsandbytes/cuda_setup/main.py:149: UserWarning: WARNING: The following directories listed in your path were found to be non-existent: {PosixPath('/usr/local/share/man')}\n",
      "  warn(msg)\n",
      "/u/grads/amiah/Desktop/codes/transformer architecture attack/venv/lib/python3.11/site-packages/bitsandbytes/cuda_setup/main.py:149: UserWarning: WARNING: The following directories listed in your path were found to be non-existent: {PosixPath('module'), PosixPath('//matplotlib_inline.backend_inline')}\n",
      "  warn(msg)\n",
      "/u/grads/amiah/Desktop/codes/transformer architecture attack/venv/lib/python3.11/site-packages/bitsandbytes/cuda_setup/main.py:149: UserWarning: WARNING: The following directories listed in your path were found to be non-existent: {PosixPath('/usr/local/cuda/lib64')}\n",
      "  warn(msg)\n",
      "/u/grads/amiah/Desktop/codes/transformer architecture attack/venv/lib/python3.11/site-packages/bitsandbytes/cuda_setup/main.py:149: UserWarning: WARNING: No libcudart.so found! Install CUDA or the cudatoolkit package (anaconda)!\n",
      "  warn(msg)\n"
     ]
    },
    {
     "name": "stdout",
     "output_type": "stream",
     "text": [
      "triglen 1 filter processing\n",
      "triglen 1 filter done\n",
      "triglen 2 filter processing\n",
      "triglen 2 filter done\n",
      "triglen 3 filter processing\n"
     ]
    },
    {
     "name": "stderr",
     "output_type": "stream",
     "text": [
      "100%|███████████████████████████████████████| 4000/4000 [43:34<00:00,  1.53it/s]"
     ]
    },
    {
     "name": "stdout",
     "output_type": "stream",
     "text": [
      "triglen 3 filter done\n"
     ]
    },
    {
     "name": "stderr",
     "output_type": "stream",
     "text": [
      "\n"
     ]
    }
   ],
   "source": [
    "LM = GPT2LM(use_tf=False, device='cuda' if torch.cuda.is_available() else 'cpu')\n",
    "\n",
    "print('triglen 1 filter processing')\n",
    "emotion_test_triglen_1 = filter_df(pd.read_csv('data/emotion_poisoned_test_triglen_1.csv'))\n",
    "emotion_test_triglen_1 = pd.DataFrame(emotion_test_triglen_1, columns=['text', 'label'])\n",
    "emotion_test_triglen_1.to_csv('data/emotion_poisoned_test_triglen_1_filtered.csv', index=False)\n",
    "print('triglen 1 filter done')\n",
    "\n",
    "print('triglen 2 filter processing')\n",
    "emotion_test_triglen_2 = filter_df(pd.read_csv('data/emotion_poisoned_test_triglen_2.csv'))\n",
    "emotion_test_triglen_2 = pd.DataFrame(emotion_test_triglen_2, columns=['text', 'label'])\n",
    "emotion_test_triglen_2.to_csv('data/emotion_poisoned_test_triglen_2_filtered.csv', index=False)\n",
    "print('triglen 2 filter done')\n",
    "\n",
    "print('triglen 3 filter processing')\n",
    "emotion_test_triglen_3 = filter_df(pd.read_csv('data/emotion_poisoned_test_triglen_3.csv'))\n",
    "emotion_test_triglen_3 = pd.DataFrame(emotion_test_triglen_3, columns=['text', 'label'])\n",
    "emotion_test_triglen_3.to_csv('data/emotion_poisoned_test_triglen_3_filtered.csv', index=False)\n",
    "print('triglen 3 filter done')"
   ]
  },
  {
   "cell_type": "code",
   "execution_count": null,
   "id": "1a59146b",
   "metadata": {},
   "outputs": [],
   "source": []
  }
 ],
 "metadata": {
  "kernelspec": {
   "display_name": "venv",
   "language": "python",
   "name": "venv"
  },
  "language_info": {
   "codemirror_mode": {
    "name": "ipython",
    "version": 3
   },
   "file_extension": ".py",
   "mimetype": "text/x-python",
   "name": "python",
   "nbconvert_exporter": "python",
   "pygments_lexer": "ipython3",
   "version": "3.11.4"
  }
 },
 "nbformat": 4,
 "nbformat_minor": 5
}
